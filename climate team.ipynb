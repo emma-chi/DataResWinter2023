{
 "cells": [
  {
   "cell_type": "code",
   "execution_count": 29,
   "id": "4cdd24d0",
   "metadata": {
    "scrolled": true
   },
   "outputs": [],
   "source": [
    "import numpy as np\n",
    "import pandas as pd\n",
    "import seaborn as sns\n",
    "import matplotlib.pyplot as plt"
   ]
  },
  {
   "cell_type": "markdown",
   "id": "7876a105",
   "metadata": {},
   "source": [
    "Create heat map of heat related illness hospitalizations and highest/lowest median income!"
   ]
  },
  {
   "cell_type": "markdown",
   "id": "523358b5",
   "metadata": {},
   "source": [
    "## MEDIAN INCOME DATA"
   ]
  },
  {
   "cell_type": "markdown",
   "id": "d5e8b1cd",
   "metadata": {},
   "source": [
    "**Source:** https://www.laalmanac.com/employment/e"
   ]
  },
  {
   "cell_type": "code",
   "execution_count": 5,
   "id": "7a1b18ff",
   "metadata": {
    "scrolled": true
   },
   "outputs": [
    {
     "name": "stdout",
     "output_type": "stream",
     "text": [
      "     Zip Code                                          Community  \\\n",
      "0       90001   Los Angeles (South Los Angeles), Florence-Graham   \n",
      "1       90002         Los Angeles (Southeast Los Angeles, Watts)   \n",
      "2       90003  Los Angeles (South Los Angeles, Southeast Los ...   \n",
      "3       90004  Los Angeles (Hancock Park, Rampart Village, Vi...   \n",
      "4       90005  Los Angeles (Hancock Park, Koreatown, Wilshire...   \n",
      "..        ...                                                ...   \n",
      "276     93551                 City Ranch, Leona Valley, Palmdale   \n",
      "277     93552                                           Palmdale   \n",
      "278     93553                         Juniper Hills, Pearblossom   \n",
      "279     93563                              Pearblossom, Valyermo   \n",
      "280     93591                         Lake Los Angeles, Palmdale   \n",
      "\n",
      "    Estimated Median Income  \n",
      "0                     52806  \n",
      "1                     46159  \n",
      "2                     47733  \n",
      "3                     54947  \n",
      "4                     44913  \n",
      "..                      ...  \n",
      "276                   98181  \n",
      "277                   73074  \n",
      "278                   59805  \n",
      "279                  210600  \n",
      "280                   53733  \n",
      "\n",
      "[281 rows x 3 columns]\n"
     ]
    }
   ],
   "source": [
    "# read in data for median income levels\n",
    "med_income = pd.read_excel(r'median income by la zip (1).xlsx')\n",
    "print(med_income) "
   ]
  },
  {
   "cell_type": "code",
   "execution_count": 7,
   "id": "6f9f2091",
   "metadata": {},
   "outputs": [],
   "source": [
    "# replace the error values \n",
    "\n",
    "med_income[\"Estimated Median Income\"] = med_income['Estimated Median Income'].replace('No 2021 estimate ($90,546 in 2020)', '90546')\n",
    "bad_zipcode = med_income[med_income['Zip Code'] == '91046'].index\n",
    "med_income.drop(bad_zipcode, inplace=True)"
   ]
  },
  {
   "cell_type": "code",
   "execution_count": 8,
   "id": "1dd5fc08",
   "metadata": {},
   "outputs": [],
   "source": [
    "# make the data set from string to integer\n",
    "med_income[\"Estimated Median Income\"] = med_income['Estimated Median Income'].astype('int')"
   ]
  },
  {
   "cell_type": "code",
   "execution_count": 9,
   "id": "6e801061",
   "metadata": {},
   "outputs": [
    {
     "data": {
      "text/html": [
       "<div>\n",
       "<style scoped>\n",
       "    .dataframe tbody tr th:only-of-type {\n",
       "        vertical-align: middle;\n",
       "    }\n",
       "\n",
       "    .dataframe tbody tr th {\n",
       "        vertical-align: top;\n",
       "    }\n",
       "\n",
       "    .dataframe thead th {\n",
       "        text-align: right;\n",
       "    }\n",
       "</style>\n",
       "<table border=\"1\" class=\"dataframe\">\n",
       "  <thead>\n",
       "    <tr style=\"text-align: right;\">\n",
       "      <th></th>\n",
       "      <th>Zip Code</th>\n",
       "      <th>Community</th>\n",
       "      <th>Estimated Median Income</th>\n",
       "    </tr>\n",
       "  </thead>\n",
       "  <tbody>\n",
       "    <tr>\n",
       "      <th>11</th>\n",
       "      <td>90013</td>\n",
       "      <td>Los Angeles (Downtown Central, Downtown Fashio...</td>\n",
       "      <td>22291</td>\n",
       "    </tr>\n",
       "    <tr>\n",
       "      <th>19</th>\n",
       "      <td>90021</td>\n",
       "      <td>Los Angeles (Downtown Fashion District, Downto...</td>\n",
       "      <td>25364</td>\n",
       "    </tr>\n",
       "    <tr>\n",
       "      <th>12</th>\n",
       "      <td>90014</td>\n",
       "      <td>Los Angeles (Downtown Historic Core, Arts Dist...</td>\n",
       "      <td>31332</td>\n",
       "    </tr>\n",
       "    <tr>\n",
       "      <th>49</th>\n",
       "      <td>90058</td>\n",
       "      <td>Los Angeles (Southeast Los Angeles), Vernon</td>\n",
       "      <td>33146</td>\n",
       "    </tr>\n",
       "    <tr>\n",
       "      <th>6</th>\n",
       "      <td>90007</td>\n",
       "      <td>Los Angeles (Southeast Los Angeles, Univerity ...</td>\n",
       "      <td>33222</td>\n",
       "    </tr>\n",
       "    <tr>\n",
       "      <th>...</th>\n",
       "      <td>...</td>\n",
       "      <td>...</td>\n",
       "      <td>...</td>\n",
       "    </tr>\n",
       "    <tr>\n",
       "      <th>88</th>\n",
       "      <td>90274</td>\n",
       "      <td>Palos Verdes Estates, Rolling Hills, Rolling H...</td>\n",
       "      <td>186144</td>\n",
       "    </tr>\n",
       "    <tr>\n",
       "      <th>158</th>\n",
       "      <td>91011</td>\n",
       "      <td>La Cañada Flintridge</td>\n",
       "      <td>187297</td>\n",
       "    </tr>\n",
       "    <tr>\n",
       "      <th>61</th>\n",
       "      <td>90077</td>\n",
       "      <td>Los Angeles (Bel Air Estates, Beverly Glen)</td>\n",
       "      <td>200625</td>\n",
       "    </tr>\n",
       "    <tr>\n",
       "      <th>279</th>\n",
       "      <td>93563</td>\n",
       "      <td>Pearblossom, Valyermo</td>\n",
       "      <td>210600</td>\n",
       "    </tr>\n",
       "    <tr>\n",
       "      <th>87</th>\n",
       "      <td>90272</td>\n",
       "      <td>Los Angeles (Castellemare, Pacific Highlands, ...</td>\n",
       "      <td>212115</td>\n",
       "    </tr>\n",
       "  </tbody>\n",
       "</table>\n",
       "<p>281 rows × 3 columns</p>\n",
       "</div>"
      ],
      "text/plain": [
       "     Zip Code                                          Community  \\\n",
       "11      90013  Los Angeles (Downtown Central, Downtown Fashio...   \n",
       "19      90021  Los Angeles (Downtown Fashion District, Downto...   \n",
       "12      90014  Los Angeles (Downtown Historic Core, Arts Dist...   \n",
       "49      90058        Los Angeles (Southeast Los Angeles), Vernon   \n",
       "6       90007  Los Angeles (Southeast Los Angeles, Univerity ...   \n",
       "..        ...                                                ...   \n",
       "88      90274  Palos Verdes Estates, Rolling Hills, Rolling H...   \n",
       "158     91011                               La Cañada Flintridge   \n",
       "61      90077        Los Angeles (Bel Air Estates, Beverly Glen)   \n",
       "279     93563                              Pearblossom, Valyermo   \n",
       "87      90272  Los Angeles (Castellemare, Pacific Highlands, ...   \n",
       "\n",
       "     Estimated Median Income  \n",
       "11                     22291  \n",
       "19                     25364  \n",
       "12                     31332  \n",
       "49                     33146  \n",
       "6                      33222  \n",
       "..                       ...  \n",
       "88                    186144  \n",
       "158                   187297  \n",
       "61                    200625  \n",
       "279                   210600  \n",
       "87                    212115  \n",
       "\n",
       "[281 rows x 3 columns]"
      ]
     },
     "execution_count": 9,
     "metadata": {},
     "output_type": "execute_result"
    }
   ],
   "source": [
    "# sort data set by lowest to greatest estimated median income\n",
    "sort = med_income.sort_values(by=['Estimated Median Income'], ascending=True)\n",
    "sort"
   ]
  },
  {
   "cell_type": "code",
   "execution_count": 10,
   "id": "658451fc",
   "metadata": {
    "scrolled": true
   },
   "outputs": [
    {
     "data": {
      "text/plain": [
       "array([90013, 90021, 90014, 90058, 90007, 90006, 90044, 90057, 90017,\n",
       "       90813, 90005, 90037, 90002, 93534, 90011, 90059], dtype=int64)"
      ]
     },
     "execution_count": 10,
     "metadata": {},
     "output_type": "execute_result"
    }
   ],
   "source": [
    "# extract the top 16 data from the data\n",
    "lowest = sort.head(16)\n",
    "a_lowest = np.asarray(sort[\"Zip Code\"].head(16))\n",
    "a_lowest"
   ]
  },
  {
   "cell_type": "code",
   "execution_count": 11,
   "id": "e058f2dc",
   "metadata": {},
   "outputs": [
    {
     "data": {
      "text/plain": [
       "array([90254, 91381, 91302, 90210, 91436, 90275, 90094, 91008, 90266,\n",
       "       91108, 90265, 90274, 91011, 90077, 93563, 90272], dtype=int64)"
      ]
     },
     "execution_count": 11,
     "metadata": {},
     "output_type": "execute_result"
    }
   ],
   "source": [
    "# extract the highest median incomes\n",
    "highest = sort.tail(16)\n",
    "a_highest = np.asarray(sort[\"Zip Code\"].tail(16))\n",
    "a_highest"
   ]
  },
  {
   "cell_type": "markdown",
   "id": "c17197c3",
   "metadata": {},
   "source": [
    "## HRI DATA"
   ]
  },
  {
   "cell_type": "markdown",
   "id": "4332adad",
   "metadata": {},
   "source": [
    "**Source:** https://sites.google.com/g.ucla.edu/uclaheatmaps/about?authuser=0"
   ]
  },
  {
   "cell_type": "code",
   "execution_count": 12,
   "id": "be542f51",
   "metadata": {},
   "outputs": [
    {
     "name": "stdout",
     "output_type": "stream",
     "text": [
      "      zip_code  daily_ExcessERvisit_number  daily_ExcessERvisit_rate\n",
      "0        89010                           0                       0.9\n",
      "1        89019                           0                       0.0\n",
      "2        89060                           0                       0.0\n",
      "3        89061                           0                       0.0\n",
      "4        89439                           0                       0.1\n",
      "...        ...                         ...                       ...\n",
      "1764     96148                           0                       0.9\n",
      "1765     96150                           2                       0.7\n",
      "1766     96155                           0                      89.7\n",
      "1767     96161                           1                       0.4\n",
      "1768     97635                           0                       0.0\n",
      "\n",
      "[1769 rows x 3 columns]\n"
     ]
    }
   ],
   "source": [
    "# heat related illness = hri \n",
    "# this data is number of excess daily visits to ER from 2008 - 2018\n",
    "# for zip codes \n",
    "# read in data\n",
    "hri = pd.read_excel(r'Heatmap_ziplevel_7.7.2022.xlsx')\n",
    "print(hri)"
   ]
  },
  {
   "cell_type": "code",
   "execution_count": 13,
   "id": "c8ce9524",
   "metadata": {},
   "outputs": [
    {
     "data": {
      "text/plain": [
       "[90013,\n",
       " 90021,\n",
       " 90014,\n",
       " 90058,\n",
       " 90007,\n",
       " 90006,\n",
       " 90044,\n",
       " 90057,\n",
       " 90017,\n",
       " 90813,\n",
       " 90005,\n",
       " 90037,\n",
       " 90002,\n",
       " 93534,\n",
       " 90011,\n",
       " 90059]"
      ]
     },
     "execution_count": 13,
     "metadata": {},
     "output_type": "execute_result"
    }
   ],
   "source": [
    "# create list of the lowest income zipcodes\n",
    "l_lowest = a_lowest.tolist()\n",
    "l_lowest"
   ]
  },
  {
   "cell_type": "code",
   "execution_count": 15,
   "id": "ee6cfdb9",
   "metadata": {
    "scrolled": true
   },
   "outputs": [
    {
     "data": {
      "text/html": [
       "<div>\n",
       "<style scoped>\n",
       "    .dataframe tbody tr th:only-of-type {\n",
       "        vertical-align: middle;\n",
       "    }\n",
       "\n",
       "    .dataframe tbody tr th {\n",
       "        vertical-align: top;\n",
       "    }\n",
       "\n",
       "    .dataframe thead th {\n",
       "        text-align: right;\n",
       "    }\n",
       "</style>\n",
       "<table border=\"1\" class=\"dataframe\">\n",
       "  <thead>\n",
       "    <tr style=\"text-align: right;\">\n",
       "      <th></th>\n",
       "      <th>zip_code</th>\n",
       "      <th>daily_ExcessERvisit_number</th>\n",
       "      <th>daily_ExcessERvisit_rate</th>\n",
       "    </tr>\n",
       "  </thead>\n",
       "  <tbody>\n",
       "    <tr>\n",
       "      <th>16</th>\n",
       "      <td>90013</td>\n",
       "      <td>4</td>\n",
       "      <td>3.7</td>\n",
       "    </tr>\n",
       "  </tbody>\n",
       "</table>\n",
       "</div>"
      ],
      "text/plain": [
       "    zip_code  daily_ExcessERvisit_number  daily_ExcessERvisit_rate\n",
       "16     90013                           4                       3.7"
      ]
     },
     "execution_count": 15,
     "metadata": {},
     "output_type": "execute_result"
    }
   ],
   "source": [
    "# test for zipcode and ER data accuracy\n",
    "hri[hri['zip_code'] == 90013]"
   ]
  },
  {
   "cell_type": "code",
   "execution_count": 28,
   "id": "3cd9c9de",
   "metadata": {},
   "outputs": [
    {
     "name": "stdout",
     "output_type": "stream",
     "text": [
      "     zip_code  daily_ExcessERvisit_number  daily_ExcessERvisit_rate\n",
      "16      90013                           4                       3.7\n",
      "24      90021                           1                       2.1\n",
      "17      90014                           2                       2.9\n",
      "54      90058                           1                       3.5\n",
      "11      90007                           7                       1.7\n",
      "10      90006                           9                       1.5\n",
      "46      90044                          29                       3.3\n",
      "53      90057                           9                       2.1\n",
      "20      90017                           5                       2.3\n",
      "171     90813                          21                       3.5\n",
      "9       90005                           4                       1.1\n",
      "39      90037                          17                       2.7\n",
      "6       90002                          18                       3.4\n",
      "817     93534                           9                       2.4\n",
      "14      90011                          24                       2.3\n",
      "55      90059                          16                       3.9\n"
     ]
    }
   ],
   "source": [
    "# make matching dataframe of HRI visits for LOWEST median income using for loop\n",
    "hri_lowest = pd.DataFrame()\n",
    "for i in l_lowest:\n",
    "    hi = hri[hri['zip_code'] == i]\n",
    "    hri_lowest = pd.concat([hri_lowest, hi])\n",
    "    \n",
    "print(hri_lowest)"
   ]
  },
  {
   "cell_type": "code",
   "execution_count": 18,
   "id": "97de3f76",
   "metadata": {},
   "outputs": [],
   "source": [
    "# create array grid (4x4) out of dataframe\n",
    "zipcode = ((np.asarray(hri_lowest['zip_code'])).reshape(4,4))\n",
    "ER_visits = ((np.asarray(hri_lowest['daily_ExcessERvisit_number'])).reshape(4,4))"
   ]
  },
  {
   "cell_type": "code",
   "execution_count": 19,
   "id": "1c18bcac",
   "metadata": {
    "scrolled": false
   },
   "outputs": [
    {
     "data": {
      "text/plain": [
       "array([[ 4,  1,  2,  1],\n",
       "       [ 7,  9, 29,  9],\n",
       "       [ 5, 21,  4, 17],\n",
       "       [18,  9, 24, 16]], dtype=int64)"
      ]
     },
     "execution_count": 19,
     "metadata": {},
     "output_type": "execute_result"
    }
   ],
   "source": [
    "# test view\n",
    "ER_visits"
   ]
  },
  {
   "cell_type": "code",
   "execution_count": 21,
   "id": "3c53408d",
   "metadata": {},
   "outputs": [
    {
     "data": {
      "text/plain": [
       "<AxesSubplot:title={'center':'Average Number of Daily Excess ER Visits (2008 - 2018) for the 16 Lowest Median Income Neighborhoods in Los Angeles'}>"
      ]
     },
     "execution_count": 21,
     "metadata": {},
     "output_type": "execute_result"
    },
    {
     "data": {
      "image/png": "[encoded data removed]",
      "text/plain": [
       "<Figure size 936x504 with 2 Axes>"
      ]
     },
     "metadata": {
      "needs_background": "light"
     },
     "output_type": "display_data"
    }
   ],
   "source": [
    "# create heat map using seaborns\n",
    "fig, ax = plt.subplots(figsize=(13,7))\n",
    "title = 'Average Number of Daily Excess ER Visits (2008 - 2018) for the 16 Lowest Median Income Neighborhoods in Los Angeles'\n",
    "plt.title(title,fontsize=18)\n",
    "sns.heatmap(ER_visits, fmt=\"\", xticklabels=False, yticklabels=False, cmap='YlOrBr',linewidths=0.30,ax=ax, vmin=0, vmax = 30)\n"
   ]
  },
  {
   "cell_type": "code",
   "execution_count": 26,
   "id": "effc72ec",
   "metadata": {
    "scrolled": true
   },
   "outputs": [
    {
     "data": {
      "text/plain": [
       "[90254,\n",
       " 91381,\n",
       " 91302,\n",
       " 90210,\n",
       " 91436,\n",
       " 90275,\n",
       " 90094,\n",
       " 91008,\n",
       " 90266,\n",
       " 91108,\n",
       " 90265,\n",
       " 90274,\n",
       " 91011,\n",
       " 90077,\n",
       " 93563,\n",
       " 90272]"
      ]
     },
     "execution_count": 26,
     "metadata": {},
     "output_type": "execute_result"
    }
   ],
   "source": [
    "# create list of highest median income zipcodes\n",
    "l_highest = a_highest.tolist()\n",
    "l_highest"
   ]
  },
  {
   "cell_type": "code",
   "execution_count": 27,
   "id": "d1a4fe68",
   "metadata": {
    "scrolled": true
   },
   "outputs": [
    {
     "name": "stdout",
     "output_type": "stream",
     "text": [
      "     zip_code  daily_ExcessERvisit_number  daily_ExcessERvisit_rate\n",
      "90      90254                           2                       0.8\n",
      "240     91381                           3                       1.3\n",
      "207     91302                           3                       1.2\n",
      "74      90210                           2                       0.7\n",
      "251     91436                           2                       1.5\n",
      "100     90275                           4                       1.0\n",
      "71      90094                           1                       1.5\n",
      "179     91008                           0                       0.7\n",
      "96      90266                           3                       0.9\n",
      "195     91108                           1                       0.6\n",
      "95      90265                           2                       1.0\n",
      "99      90274                           2                       0.7\n",
      "181     91011                           2                       0.9\n",
      "67      90077                           1                       0.6\n",
      "836     93563                           0                       0.5\n",
      "98      90272                           1                       0.6\n"
     ]
    }
   ],
   "source": [
    "# make matching dataframe of HRI visits for HIGHEST median income using for loop\n",
    "hri_highest = pd.DataFrame()\n",
    "for i in l_highest:\n",
    "    hi = hri[hri['zip_code'] == i]\n",
    "    hri_highest = pd.concat([hri_highest, hi])\n",
    "    \n",
    "print(hri_highest)"
   ]
  },
  {
   "cell_type": "code",
   "execution_count": 26,
   "id": "823f5408",
   "metadata": {
    "scrolled": false
   },
   "outputs": [],
   "source": [
    "# create array grid (4x4) out of dataframe\n",
    "zipcode2 = ((np.asarray(hri_highest['zip_code'])).reshape(4,4))\n",
    "ER_visits2 = ((np.asarray(hri_highest['daily_ExcessERvisit_number'])).reshape(4,4))"
   ]
  },
  {
   "cell_type": "code",
   "execution_count": 27,
   "id": "09f3954c",
   "metadata": {
    "scrolled": true
   },
   "outputs": [
    {
     "data": {
      "text/plain": [
       "<AxesSubplot:title={'center':'Average Number of Daily Excess ER Visits (2008 - 2018) for the 16 Highest Median Income Neighborhoods in Los Angeles'}>"
      ]
     },
     "execution_count": 27,
     "metadata": {},
     "output_type": "execute_result"
    },
    {
     "data": {
      "image/png": "[encoded data removed]",
      "text/plain": [
       "<Figure size 936x504 with 2 Axes>"
      ]
     },
     "metadata": {
      "needs_background": "light"
     },
     "output_type": "display_data"
    }
   ],
   "source": [
    "# create heat map using seaborns\n",
    "fig, ax = plt.subplots(figsize=(13,7))\n",
    "title = 'Average Number of Daily Excess ER Visits (2008 - 2018) for the 16 Highest Median Income Neighborhoods in Los Angeles'\n",
    "plt.title(title,fontsize=18)\n",
    "sns.heatmap(ER_visits2, xticklabels=False, yticklabels=False, fmt=\"\",cmap='YlOrBr',linewidths=0.30,ax=ax, vmin = 0, vmax = 30)\n"
   ]
  },
  {
   "cell_type": "markdown",
   "id": "e5e059a3",
   "metadata": {},
   "source": [
    "Visualization Complete! - by Madeline Zhang :)"
   ]
  }
 ],
 "metadata": {
  "kernelspec": {
   "display_name": "Python 3",
   "language": "python",
   "name": "python3"
  },
  "language_info": {
   "codemirror_mode": {
    "name": "ipython",
    "version": 3
   },
   "file_extension": ".py",
   "mimetype": "text/x-python",
   "name": "python",
   "nbconvert_exporter": "python",
   "pygments_lexer": "ipython3",
   "version": "3.8.8"
  }
 },
 "nbformat": 4,
 "nbformat_minor": 5
}
